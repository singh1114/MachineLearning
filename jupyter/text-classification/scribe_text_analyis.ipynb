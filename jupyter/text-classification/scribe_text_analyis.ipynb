{
 "cells": [
  {
   "cell_type": "code",
   "execution_count": 1,
   "metadata": {},
   "outputs": [
    {
     "data": {
      "text/html": [
       "<div>\n",
       "<style scoped>\n",
       "    .dataframe tbody tr th:only-of-type {\n",
       "        vertical-align: middle;\n",
       "    }\n",
       "\n",
       "    .dataframe tbody tr th {\n",
       "        vertical-align: top;\n",
       "    }\n",
       "\n",
       "    .dataframe thead th {\n",
       "        text-align: right;\n",
       "    }\n",
       "</style>\n",
       "<table border=\"1\" class=\"dataframe\">\n",
       "  <thead>\n",
       "    <tr style=\"text-align: right;\">\n",
       "      <th></th>\n",
       "      <th>Case 1: Adam dont have any questions to discuss</th>\n",
       "      <th>Case 2: Adam writes questions he has, in the email reply itself</th>\n",
       "      <th>Case 3: Adam is busy and will revert back to megan later (without a specific time)</th>\n",
       "      <th>Case 4: Adam is busy and will get in touch with Megan after few days/weeks with mentioned time in email</th>\n",
       "      <th>Case 5: Adam wants to discuss over a call and might or might not provide time</th>\n",
       "    </tr>\n",
       "  </thead>\n",
       "  <tbody>\n",
       "    <tr>\n",
       "      <th>0</th>\n",
       "      <td>I don't have any questions at this time, but I...</td>\n",
       "      <td>I do have a few questions.  Do you have any ot...</td>\n",
       "      <td>I'm currently tied up on a project, but I'll e...</td>\n",
       "      <td>I'm currently tied up on a project , but I'll ...</td>\n",
       "      <td>I'd be interested in speaking on the phone.  C...</td>\n",
       "    </tr>\n",
       "    <tr>\n",
       "      <th>1</th>\n",
       "      <td>Hi Megan,\\nThank you for taking the time to fo...</td>\n",
       "      <td>Hi Megan ,\\nThank you for taking the time to f...</td>\n",
       "      <td>Hi Megan,\\n Thank you for writing to me in reg...</td>\n",
       "      <td>Hi Megan,\\nThank you for taking the time to fo...</td>\n",
       "      <td>Hi Megan,\\n Thank you for writing to let you  ...</td>\n",
       "    </tr>\n",
       "    <tr>\n",
       "      <th>2</th>\n",
       "      <td>Hi Megan, \\nI don't have any questions at the ...</td>\n",
       "      <td>Hi Megan, \\nI am having problems opening the e...</td>\n",
       "      <td>Hi Megan, \\nI am busy at the moment but I will...</td>\n",
       "      <td>Hi Megan, \\nI am busy at the moment but I will...</td>\n",
       "      <td>Hi Megan, \\nI would like to talk on the phone ...</td>\n",
       "    </tr>\n",
       "    <tr>\n",
       "      <th>3</th>\n",
       "      <td>Thank you, right now I have any further questi...</td>\n",
       "      <td>Do you have any questions for me?</td>\n",
       "      <td>Hello Megan,\\nI'm sorry, I am currently busy a...</td>\n",
       "      <td>Hello Megan I am currently busy at the moment ...</td>\n",
       "      <td>Hello, I would like to be able to set up a tim...</td>\n",
       "    </tr>\n",
       "    <tr>\n",
       "      <th>4</th>\n",
       "      <td>Hi Megan,\\n\\nAt this time, I no longer have an...</td>\n",
       "      <td>Hi Megan,\\n\\nI was wondering if you could tell...</td>\n",
       "      <td>Hi Megan, \\n\\nI am currently really busy and u...</td>\n",
       "      <td>Hi Megan,\\n\\nI am extrmely busy at the moment,...</td>\n",
       "      <td>Hi Megan,\\n\\nI do actually have some questions...</td>\n",
       "    </tr>\n",
       "  </tbody>\n",
       "</table>\n",
       "</div>"
      ],
      "text/plain": [
       "     Case 1: Adam dont have any questions to discuss  \\\n",
       "0  I don't have any questions at this time, but I...   \n",
       "1  Hi Megan,\\nThank you for taking the time to fo...   \n",
       "2  Hi Megan, \\nI don't have any questions at the ...   \n",
       "3  Thank you, right now I have any further questi...   \n",
       "4  Hi Megan,\\n\\nAt this time, I no longer have an...   \n",
       "\n",
       "  Case 2: Adam writes questions he has, in the email reply itself  \\\n",
       "0  I do have a few questions.  Do you have any ot...                \n",
       "1  Hi Megan ,\\nThank you for taking the time to f...                \n",
       "2  Hi Megan, \\nI am having problems opening the e...                \n",
       "3                  Do you have any questions for me?                \n",
       "4  Hi Megan,\\n\\nI was wondering if you could tell...                \n",
       "\n",
       "  Case 3: Adam is busy and will revert back to megan later (without a specific time)  \\\n",
       "0  I'm currently tied up on a project, but I'll e...                                   \n",
       "1  Hi Megan,\\n Thank you for writing to me in reg...                                   \n",
       "2  Hi Megan, \\nI am busy at the moment but I will...                                   \n",
       "3  Hello Megan,\\nI'm sorry, I am currently busy a...                                   \n",
       "4  Hi Megan, \\n\\nI am currently really busy and u...                                   \n",
       "\n",
       "  Case 4: Adam is busy and will get in touch with Megan after few days/weeks with mentioned time in email  \\\n",
       "0  I'm currently tied up on a project , but I'll ...                                                        \n",
       "1  Hi Megan,\\nThank you for taking the time to fo...                                                        \n",
       "2  Hi Megan, \\nI am busy at the moment but I will...                                                        \n",
       "3  Hello Megan I am currently busy at the moment ...                                                        \n",
       "4  Hi Megan,\\n\\nI am extrmely busy at the moment,...                                                        \n",
       "\n",
       "  Case 5: Adam wants to discuss over a call and might or might not provide time  \n",
       "0  I'd be interested in speaking on the phone.  C...                             \n",
       "1  Hi Megan,\\n Thank you for writing to let you  ...                             \n",
       "2  Hi Megan, \\nI would like to talk on the phone ...                             \n",
       "3  Hello, I would like to be able to set up a tim...                             \n",
       "4  Hi Megan,\\n\\nI do actually have some questions...                             "
      ]
     },
     "execution_count": 1,
     "metadata": {},
     "output_type": "execute_result"
    }
   ],
   "source": [
    "import pandas as pd\n",
    "df = pd.read_csv('../scribe_text_analysis.csv')\n",
    "df.head()"
   ]
  },
  {
   "cell_type": "code",
   "execution_count": 2,
   "metadata": {},
   "outputs": [],
   "source": [
    "data_dict = {'category': [], 'text': []}\n",
    "for no_question_text in df['Case 1: Adam dont have any questions to discuss']:\n",
    "    data_dict['category'].append('No Question')\n",
    "    data_dict['text'].append(no_question_text)\n",
    "\n",
    "for with_question in df['Case 2: Adam writes questions he has, in the email reply itself']:\n",
    "    data_dict['category'].append('With Question')\n",
    "    data_dict['text'].append(with_question)\n",
    "    \n",
    "for busy_no_time in df['Case 3: Adam is busy and will revert back to megan later (without a specific time)']:\n",
    "    data_dict['category'].append('Busy No Time')\n",
    "    data_dict['text'].append(busy_no_time)\n",
    "\n",
    "for get_in_sometime in df['Case 4: Adam is busy and will get in touch with Megan after few days/weeks with mentioned time in email']:\n",
    "    data_dict['category'].append('Will get back in sometime')\n",
    "    data_dict['text'].append(get_in_sometime)\n",
    "    \n",
    "for discuss_over_call in df['Case 5: Adam wants to discuss over a call and might or might not provide time']:\n",
    "    data_dict['category'].append('Discuss Over Call')\n",
    "    data_dict['text'].append(discuss_over_call)"
   ]
  },
  {
   "cell_type": "code",
   "execution_count": 3,
   "metadata": {},
   "outputs": [],
   "source": [
    "scribe_df = pd.DataFrame(data_dict)"
   ]
  },
  {
   "cell_type": "code",
   "execution_count": 4,
   "metadata": {},
   "outputs": [
    {
     "data": {
      "text/html": [
       "<div>\n",
       "<style scoped>\n",
       "    .dataframe tbody tr th:only-of-type {\n",
       "        vertical-align: middle;\n",
       "    }\n",
       "\n",
       "    .dataframe tbody tr th {\n",
       "        vertical-align: top;\n",
       "    }\n",
       "\n",
       "    .dataframe thead th {\n",
       "        text-align: right;\n",
       "    }\n",
       "</style>\n",
       "<table border=\"1\" class=\"dataframe\">\n",
       "  <thead>\n",
       "    <tr style=\"text-align: right;\">\n",
       "      <th></th>\n",
       "      <th>category</th>\n",
       "      <th>text</th>\n",
       "    </tr>\n",
       "  </thead>\n",
       "  <tbody>\n",
       "    <tr>\n",
       "      <th>0</th>\n",
       "      <td>No Question</td>\n",
       "      <td>I don't have any questions at this time, but I...</td>\n",
       "    </tr>\n",
       "    <tr>\n",
       "      <th>1</th>\n",
       "      <td>No Question</td>\n",
       "      <td>Hi Megan,\\nThank you for taking the time to fo...</td>\n",
       "    </tr>\n",
       "    <tr>\n",
       "      <th>2</th>\n",
       "      <td>No Question</td>\n",
       "      <td>Hi Megan, \\nI don't have any questions at the ...</td>\n",
       "    </tr>\n",
       "    <tr>\n",
       "      <th>3</th>\n",
       "      <td>No Question</td>\n",
       "      <td>Thank you, right now I have any further questi...</td>\n",
       "    </tr>\n",
       "    <tr>\n",
       "      <th>4</th>\n",
       "      <td>No Question</td>\n",
       "      <td>Hi Megan,\\n\\nAt this time, I no longer have an...</td>\n",
       "    </tr>\n",
       "  </tbody>\n",
       "</table>\n",
       "</div>"
      ],
      "text/plain": [
       "      category                                               text\n",
       "0  No Question  I don't have any questions at this time, but I...\n",
       "1  No Question  Hi Megan,\\nThank you for taking the time to fo...\n",
       "2  No Question  Hi Megan, \\nI don't have any questions at the ...\n",
       "3  No Question  Thank you, right now I have any further questi...\n",
       "4  No Question  Hi Megan,\\n\\nAt this time, I no longer have an..."
      ]
     },
     "execution_count": 4,
     "metadata": {},
     "output_type": "execute_result"
    }
   ],
   "source": [
    "scribe_df.head()"
   ]
  },
  {
   "cell_type": "markdown",
   "metadata": {},
   "source": [
    "__Creating category_id according to the `category`__"
   ]
  },
  {
   "cell_type": "code",
   "execution_count": 5,
   "metadata": {},
   "outputs": [],
   "source": [
    "scribe_df['category_id'] = scribe_df['category'].factorize()[0]"
   ]
  },
  {
   "cell_type": "code",
   "execution_count": 6,
   "metadata": {},
   "outputs": [
    {
     "data": {
      "text/html": [
       "<div>\n",
       "<style scoped>\n",
       "    .dataframe tbody tr th:only-of-type {\n",
       "        vertical-align: middle;\n",
       "    }\n",
       "\n",
       "    .dataframe tbody tr th {\n",
       "        vertical-align: top;\n",
       "    }\n",
       "\n",
       "    .dataframe thead th {\n",
       "        text-align: right;\n",
       "    }\n",
       "</style>\n",
       "<table border=\"1\" class=\"dataframe\">\n",
       "  <thead>\n",
       "    <tr style=\"text-align: right;\">\n",
       "      <th></th>\n",
       "      <th>category</th>\n",
       "      <th>text</th>\n",
       "      <th>category_id</th>\n",
       "    </tr>\n",
       "  </thead>\n",
       "  <tbody>\n",
       "    <tr>\n",
       "      <th>0</th>\n",
       "      <td>No Question</td>\n",
       "      <td>I don't have any questions at this time, but I...</td>\n",
       "      <td>0</td>\n",
       "    </tr>\n",
       "    <tr>\n",
       "      <th>1</th>\n",
       "      <td>No Question</td>\n",
       "      <td>Hi Megan,\\nThank you for taking the time to fo...</td>\n",
       "      <td>0</td>\n",
       "    </tr>\n",
       "    <tr>\n",
       "      <th>2</th>\n",
       "      <td>No Question</td>\n",
       "      <td>Hi Megan, \\nI don't have any questions at the ...</td>\n",
       "      <td>0</td>\n",
       "    </tr>\n",
       "    <tr>\n",
       "      <th>3</th>\n",
       "      <td>No Question</td>\n",
       "      <td>Thank you, right now I have any further questi...</td>\n",
       "      <td>0</td>\n",
       "    </tr>\n",
       "    <tr>\n",
       "      <th>4</th>\n",
       "      <td>No Question</td>\n",
       "      <td>Hi Megan,\\n\\nAt this time, I no longer have an...</td>\n",
       "      <td>0</td>\n",
       "    </tr>\n",
       "  </tbody>\n",
       "</table>\n",
       "</div>"
      ],
      "text/plain": [
       "      category                                               text  category_id\n",
       "0  No Question  I don't have any questions at this time, but I...            0\n",
       "1  No Question  Hi Megan,\\nThank you for taking the time to fo...            0\n",
       "2  No Question  Hi Megan, \\nI don't have any questions at the ...            0\n",
       "3  No Question  Thank you, right now I have any further questi...            0\n",
       "4  No Question  Hi Megan,\\n\\nAt this time, I no longer have an...            0"
      ]
     },
     "execution_count": 6,
     "metadata": {},
     "output_type": "execute_result"
    }
   ],
   "source": [
    "scribe_df.head()"
   ]
  },
  {
   "cell_type": "code",
   "execution_count": 7,
   "metadata": {},
   "outputs": [
    {
     "data": {
      "text/plain": [
       "(220, 111)"
      ]
     },
     "execution_count": 7,
     "metadata": {},
     "output_type": "execute_result"
    }
   ],
   "source": [
    "from sklearn.feature_extraction.text import TfidfVectorizer\n",
    "tfidf = TfidfVectorizer(sublinear_tf=True, min_df=5, norm='l2', encoding='latin-1', ngram_range=(1, 2), stop_words='english')\n",
    "features = tfidf.fit_transform(scribe_df.text)\n",
    "labels = scribe_df.category_id\n",
    "features.shape"
   ]
  },
  {
   "cell_type": "code",
   "execution_count": 10,
   "metadata": {},
   "outputs": [
    {
     "name": "stdout",
     "output_type": "stream",
     "text": [
      "# 'No Question':\n",
      "  . Most correlated unigrams:\n",
      ". questions\n",
      ". don\n",
      "  . Most correlated bigrams:\n",
      ". questions discuss\n",
      ". don questions\n",
      "# 'With Question':\n",
      "  . Most correlated unigrams:\n",
      ". download\n",
      ". does\n",
      "  . Most correlated bigrams:\n",
      ". let know\n",
      ". don questions\n",
      "# 'Busy No Time':\n",
      "  . Most correlated unigrams:\n",
      ". busy\n",
      ". later\n",
      "  . Most correlated bigrams:\n",
      ". project ll\n",
      ". currently busy\n",
      "# 'Will get back in sometime':\n",
      "  . Most correlated unigrams:\n",
      ". weeks\n",
      ". days\n",
      "  . Most correlated bigrams:\n",
      ". contact weeks\n",
      ". megan busy\n",
      "# 'Discuss Over Call':\n",
      "  . Most correlated unigrams:\n",
      ". discuss\n",
      ". phone\n",
      "  . Most correlated bigrams:\n",
      ". discuss phone\n",
      ". like discuss\n"
     ]
    }
   ],
   "source": [
    "from sklearn.feature_selection import chi2\n",
    "import numpy as np\n",
    "category_id_df = scribe_df[['category_id', 'category']].drop_duplicates().sort_values('category_id')\n",
    "category_to_id = dict(category_id_df.values)\n",
    "id_to_category = dict(category_id_df[['category_id', 'category']].values)\n",
    "N = 2\n",
    "for category_id, category in sorted(category_to_id.items()):\n",
    "  features_chi2 = chi2(features, labels == category_id)\n",
    "  indices = np.argsort(features_chi2[0])\n",
    "  feature_names = np.array(tfidf.get_feature_names())[indices]\n",
    "  unigrams = [v for v in feature_names if len(v.split(' ')) == 1]\n",
    "  bigrams = [v for v in feature_names if len(v.split(' ')) == 2]\n",
    "  print(\"# '{}':\".format(category))\n",
    "  print(\"  . Most correlated unigrams:\\n. {}\".format('\\n. '.join(unigrams[-N:])))\n",
    "  print(\"  . Most correlated bigrams:\\n. {}\".format('\\n. '.join(bigrams[-N:])))\n",
    "# category_to_id"
   ]
  },
  {
   "cell_type": "markdown",
   "metadata": {},
   "source": [
    "## Analysing using Multinomial Naive Bayes "
   ]
  },
  {
   "cell_type": "code",
   "execution_count": 12,
   "metadata": {},
   "outputs": [],
   "source": [
    "from sklearn.model_selection import train_test_split\n",
    "from sklearn.feature_extraction.text import CountVectorizer\n",
    "from sklearn.feature_extraction.text import TfidfTransformer\n",
    "from sklearn.naive_bayes import MultinomialNB\n",
    "X_train, X_test, y_train, y_test = train_test_split(scribe_df['text'], scribe_df['category'], random_state = 0)\n",
    "count_vect = CountVectorizer()\n",
    "X_train_counts = count_vect.fit_transform(X_train)\n",
    "tfidf_transformer = TfidfTransformer()\n",
    "X_train_tfidf = tfidf_transformer.fit_transform(X_train_counts)\n",
    "clf = MultinomialNB().fit(X_train_tfidf, y_train)"
   ]
  },
  {
   "cell_type": "code",
   "execution_count": 13,
   "metadata": {},
   "outputs": [
    {
     "data": {
      "text/plain": [
       "array(['Busy No Time'], dtype='<U25')"
      ]
     },
     "execution_count": 13,
     "metadata": {},
     "output_type": "execute_result"
    }
   ],
   "source": [
    "clf.predict(count_vect.transform(['I am busy and I will get back to you later.']))"
   ]
  },
  {
   "cell_type": "markdown",
   "metadata": {},
   "source": [
    "## Check which algorithm will be most suitable for the problem."
   ]
  },
  {
   "cell_type": "code",
   "execution_count": 16,
   "metadata": {},
   "outputs": [
    {
     "data": {
      "image/png": "[encoded data removed]",
      "text/plain": [
       "<Figure size 432x288 with 1 Axes>"
      ]
     },
     "metadata": {},
     "output_type": "display_data"
    }
   ],
   "source": [
    "from sklearn.linear_model import LogisticRegression\n",
    "from sklearn.ensemble import RandomForestClassifier\n",
    "from sklearn.svm import LinearSVC\n",
    "from sklearn.model_selection import cross_val_score\n",
    "import matplotlib.pyplot as plt\n",
    "models = [\n",
    "    RandomForestClassifier(n_estimators=200, max_depth=3, random_state=0),\n",
    "    LinearSVC(),\n",
    "    MultinomialNB(),\n",
    "    LogisticRegression(random_state=0),\n",
    "]\n",
    "CV = 5\n",
    "cv_df = pd.DataFrame(index=range(CV * len(models)))\n",
    "entries = []\n",
    "for model in models:\n",
    "  model_name = model.__class__.__name__\n",
    "  accuracies = cross_val_score(model, features, labels, scoring='accuracy', cv=CV)\n",
    "  for fold_idx, accuracy in enumerate(accuracies):\n",
    "    entries.append((model_name, fold_idx, accuracy))\n",
    "cv_df = pd.DataFrame(entries, columns=['model_name', 'fold_idx', 'accuracy'])\n",
    "import seaborn as sns\n",
    "sns.boxplot(x='model_name', y='accuracy', data=cv_df)\n",
    "sns.stripplot(x='model_name', y='accuracy', data=cv_df, \n",
    "              size=8, jitter=True, edgecolor=\"gray\", linewidth=2)\n",
    "plt.show()"
   ]
  },
  {
   "cell_type": "code",
   "execution_count": null,
   "metadata": {},
   "outputs": [],
   "source": []
  }
 ],
 "metadata": {
  "kernelspec": {
   "display_name": "Python 3",
   "language": "python",
   "name": "python3"
  },
  "language_info": {
   "codemirror_mode": {
    "name": "ipython",
    "version": 3
   },
   "file_extension": ".py",
   "mimetype": "text/x-python",
   "name": "python",
   "nbconvert_exporter": "python",
   "pygments_lexer": "ipython3",
   "version": "3.5.4"
  }
 },
 "nbformat": 4,
 "nbformat_minor": 2
}
